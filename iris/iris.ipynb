{
 "cells": [
  {
   "cell_type": "code",
   "execution_count": null,
   "metadata": {},
   "outputs": [],
   "source": [
    "import numpy as np\n",
    "import pandas as pd\n",
    "from matplotlib import pyplot\n",
    "from sklearn.datasets import load_iris\n",
    "from sklearn.decomposition import PCA\n",
    "from sklearn.model_selection import train_test_split\n",
    "from sklearn.linear_model import LogisticRegression"
   ]
  },
  {
   "cell_type": "code",
   "execution_count": null,
   "metadata": {},
   "outputs": [],
   "source": [
    "data = load_iris()"
   ]
  },
  {
   "cell_type": "code",
   "execution_count": null,
   "metadata": {},
   "outputs": [],
   "source": [
    "pca = PCA(n_components=2)\n",
    "pca.fit(data.data)\n",
    "pca.get_covariance()\n",
    "X_reduced = pca.transform(data.data)\n",
    "\n",
    "first_setosa = 0\n",
    "first_versicolour = np.where(data.target == 1)[0][0]\n",
    "first_virginica = np.where(data.target == 2)[0][0]\n",
    "\n",
    "df_setosa = pd.DataFrame(X_reduced[first_setosa:first_versicolour])\n",
    "df_versicolour = pd.DataFrame(X_reduced[first_versicolour:first_virginica])\n",
    "df_virginica = pd.DataFrame(X_reduced[first_virginica:])\n",
    "\n",
    "pyplot.scatter(df_setosa[0], df_setosa[1], color='r')\n",
    "pyplot.scatter(df_versicolour[0], df_versicolour[1], color='g')\n",
    "pyplot.scatter(df_virginica[0], df_virginica[1], color='b')"
   ]
  },
  {
   "cell_type": "code",
   "execution_count": null,
   "metadata": {},
   "outputs": [],
   "source": [
    "X_train, X_test, y_train, y_test = train_test_split(data.data, data.target, test_size=0.2)\n",
    "lr = LogisticRegression()\n",
    "lr.fit(X_train, y_train)\n",
    "pred_test = lr.predict(X_test)"
   ]
  },
  {
   "cell_type": "code",
   "execution_count": null,
   "metadata": {},
   "outputs": [],
   "source": [
    "errors = len([1 for (i, target) in enumerate(pred_test) if target != y_test[i]])\n",
    "print(\"Test Accuracy: %s\" % (1 - (errors / len(y_test))))"
   ]
  }
 ],
 "metadata": {
  "kernelspec": {
   "display_name": "Python 3",
   "language": "python",
   "name": "python3"
  },
  "language_info": {
   "codemirror_mode": {
    "name": "ipython",
    "version": 3
   },
   "file_extension": ".py",
   "mimetype": "text/x-python",
   "name": "python",
   "nbconvert_exporter": "python",
   "pygments_lexer": "ipython3",
   "version": "3.6.4"
  }
 },
 "nbformat": 4,
 "nbformat_minor": 2
}
